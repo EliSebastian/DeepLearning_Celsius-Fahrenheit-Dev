{
 "cells": [
  {
   "cell_type": "code",
   "execution_count": 1,
   "metadata": {},
   "outputs": [],
   "source": [
    "import tensorflow as tf\n",
    "import numpy as np"
   ]
  },
  {
   "cell_type": "markdown",
   "metadata": {},
   "source": [
    "Datos de Entrenamiento"
   ]
  },
  {
   "cell_type": "code",
   "execution_count": 3,
   "metadata": {},
   "outputs": [],
   "source": [
    "GCelcius = np.array([-40,-10,0,8,15,22,38],dtype=float)\n",
    "GFahrenheit = np.array([-40,14,32,46,59,72,100],dtype=float)"
   ]
  },
  {
   "cell_type": "code",
   "execution_count": 4,
   "metadata": {},
   "outputs": [],
   "source": [
    "\n",
    "#? Priemra Capa de la red neuronal\n",
    "# Factores: 1\n",
    "# Neuronas: 3\n",
    "oculta1 = tf.keras.layers.Dense(units=3, input_shape = [1])\n",
    "\n",
    "#? Segunda capa de la ref Neuronal\n",
    "# Neuronas: 3\n",
    "oculta2 = tf.keras.layers.Dense(units = 3)\n",
    "\n",
    "#? Neurona de Salida\n",
    "# Neuronas: 1\n",
    "Salida = tf.keras.layers.Dense(units = 1)\n",
    "\n",
    "modelo = tf.keras.Sequential([oculta1,oculta2,Salida])"
   ]
  },
  {
   "cell_type": "code",
   "execution_count": 5,
   "metadata": {},
   "outputs": [],
   "source": [
    "modelo.compile(\n",
    "    optimizer = tf.keras.optimizers.Adam(0.1),\n",
    "    loss = 'mean_squared_error'\n",
    ")"
   ]
  },
  {
   "cell_type": "markdown",
   "metadata": {},
   "source": [
    "Entrenamiento"
   ]
  },
  {
   "cell_type": "code",
   "execution_count": 6,
   "metadata": {},
   "outputs": [
    {
     "name": "stdout",
     "output_type": "stream",
     "text": [
      "Comenzando Entrenamiento...\n",
      "Modelo Entrenado\n"
     ]
    }
   ],
   "source": [
    "print(\"Comenzando Entrenamiento...\")\n",
    "historial = modelo.fit(GCelcius,GFahrenheit,epochs=200,verbose=False)\n",
    "print(\"Modelo Entrenado\")"
   ]
  },
  {
   "cell_type": "markdown",
   "metadata": {},
   "source": [
    "Grafica de Magnitud de Perdida"
   ]
  },
  {
   "cell_type": "code",
   "execution_count": 7,
   "metadata": {},
   "outputs": [
    {
     "data": {
      "text/plain": [
       "[<matplotlib.lines.Line2D at 0x2f555260af0>]"
      ]
     },
     "execution_count": 7,
     "metadata": {},
     "output_type": "execute_result"
    },
    {
     "data": {
      "image/png": "[encoded data removed]",
      "text/plain": [
       "<Figure size 432x288 with 1 Axes>"
      ]
     },
     "metadata": {
      "needs_background": "light"
     },
     "output_type": "display_data"
    }
   ],
   "source": [
    "import matplotlib.pyplot as plt\n",
    "plt.xlabel(\"# Epoca\")\n",
    "plt.ylabel(\"Magnitud de perdida\")\n",
    "plt.plot(historial.history[\"loss\"])"
   ]
  },
  {
   "cell_type": "code",
   "execution_count": 10,
   "metadata": {},
   "outputs": [
    {
     "name": "stdout",
     "output_type": "stream",
     "text": [
      "Hagamos una prediccion\n",
      "1/1 [==============================] - 0s 26ms/step\n",
      "El resultado es [[190.16759]]F\n"
     ]
    }
   ],
   "source": [
    "print(\"Hagamos una prediccion\")\n",
    "resultado = modelo.predict([88.0])\n",
    "print(\"El resultado es \" + str(resultado) + \"F\")"
   ]
  },
  {
   "cell_type": "code",
   "execution_count": null,
   "metadata": {},
   "outputs": [],
   "source": [
    "print(\"Variables Internas del Modelo\")\n",
    "print(oculta1.get_weights())\n",
    "print(oculta2.get_weights())\n",
    "print(Salida.get_weights())"
   ]
  }
 ],
 "metadata": {
  "kernelspec": {
   "display_name": "Python 3.10.4 64-bit",
   "language": "python",
   "name": "python3"
  },
  "language_info": {
   "codemirror_mode": {
    "name": "ipython",
    "version": 3
   },
   "file_extension": ".py",
   "mimetype": "text/x-python",
   "name": "python",
   "nbconvert_exporter": "python",
   "pygments_lexer": "ipython3",
   "version": "3.10.4"
  },
  "orig_nbformat": 4,
  "vscode": {
   "interpreter": {
    "hash": "0c26daf1f4a37b3529f8311e6eb44a29dc39838d8d422fd12d615d035be26a7f"
   }
  }
 },
 "nbformat": 4,
 "nbformat_minor": 2
}
